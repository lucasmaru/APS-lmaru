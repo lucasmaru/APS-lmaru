{
 "cells": [
  {
   "cell_type": "markdown",
   "id": "11f8f0d3",
   "metadata": {},
   "source": [
    "<img src=\"./Logo_UNSAM.png\" align=\"right\" width=\"150\" />\n",
    "\n",
    "#### Procesamiento Digital de Señales\n",
    "# Trabajo Práctico Nº7\n",
    "## Filtrado digital lineal de ECG\n",
    "#### Lucas Marú"
   ]
  },
  {
   "cell_type": "markdown",
   "id": "706f363d",
   "metadata": {},
   "source": [
    "Usando el archivo ecg.mat que contiene un registro electrocardiográfico (ECG) registrado durante una prueba de esfuerzo, junto con una serie de variables descriptas a continuación. Diseñe y aplique los filtros digitales necesarios para mitigar las siguientes fuentes de contaminación:\n",
    "\n",
    "Ruido causado por el movimiento de los electrodos (Alta frecuencia).\n",
    "Ruido muscular (Alta frecuencia).\n",
    "Movimiento de la línea de base del ECG, inducido en parte por la respiración (Baja frecuencia).\n",
    "Ayuda: Los detalles de cómo acceder a ecg.mat los pueden encontrar en lectura_sigs.py\n",
    "\n",
    "Archivo ECG.mat :\n",
    "\n",
    "* ecg_lead: Registro de ECG muestreado a fs=1 KHz durante una prueba de esfuerzo\n",
    "* qrs_pattern1: Complejo de ondas QRS normal\n",
    "* heartbeat_pattern1: Latido normal\n",
    "* heartbeat_pattern2: Latido de origen ventricular\n",
    "* qrs_detections: vector con las localizaciones (en # de muestras) donde ocurren los latidos\n",
    "\n",
    "Se pide:\n",
    "\n",
    "a) Establezca una plantilla de diseño para los filtros digitales que necesitará para que la señal de ECG se asemeje a los latidos promedio en cuanto a  suavidad de los trazos y nivel isoeléctrico nulo.\n",
    "\n",
    "b) ¿Cómo obtuvo dichos valores? Describa el procedimiento para establecer los valores de la plantilla.\n",
    "\n",
    "c) Diseñe al menos dos filtros FIR y dos IIR para su comparación. Verifique que la respuesta en frecuencia responda a la plantilla de diseño.\n",
    "\n",
    "Ayuda: Para los filtros IIR adopte las aproximaciones de módulo de máxima planicidad, Chebyshev y Cauer. Para los FIR, utilice las metodologías de ventanas, cuadrados mínimos y Parks-Mc Clellan-Remez. Todos implementados en SciPy.Signal\n",
    "\n",
    "d)  Evalúe el rendimiento de los filtros que haya diseñado:\n",
    "\n",
    "Verifique que filtra las señales interferentes.\n",
    "Verifique que es inocuo en las zonas donde no hay interferentes.\n"
   ]
  },
  {
   "cell_type": "markdown",
   "id": "6f205c3f",
   "metadata": {},
   "source": [
    "## a) Establecimiento de la plantilla de diseño\n",
    "\n",
    "Para que la señal de ECG se asemeje a los latidos promedio, se requiere:\n",
    "- **Suavidad de los trazos** → eliminar componentes de alta frecuencia (ruido).\n",
    "- **Nivel isoeléctrico nulo** → eliminar componentes de muy baja frecuencia (desplazamientos de línea base o drift).\n",
    "\n",
    "Por ello, se diseñará un **filtro pasa banda** digital con los siguientes requerimientos:\n",
    "\n",
    "- **Banda pasante:** 1 Hz – 35 Hz\n",
    "- **Atenuación fuera de banda:** \n",
    "  - < 0.1 Hz (rechazo de continua y drift)\n",
    "  - > 50 Hz (rechazo de ruido muscular y componentes de alta frecuencia)\n",
    "- **Ripple máximo en banda pasante:** 1 dB\n",
    "- **Atenuación mínima en bandas de rechazo:** 40 dB\n",
    "\n",
    "Esta plantilla se aplicará a los diferentes métodos de diseño de filtros digitales (IIR y FIR) que se evaluarán a continuación.\n",
    "\n",
    "\n"
   ]
  },
  {
   "cell_type": "markdown",
   "id": "dcd85c3a",
   "metadata": {},
   "source": [
    "## b) Justificación de los valores de la plantilla\n",
    "\n",
    "Los valores de la plantilla fueron establecidos en base a criterios fisiológicos del ECG y a la necesidad de que la señal procesada refleje un **latido promedio**, es decir, con:\n",
    "\n",
    "- **Trazos suaves** → eliminando el ruido de alta frecuencia (ruido muscular, interferencia eléctrica).\n",
    "- **Nivel isoeléctrico estable** → eliminando el drift de muy baja frecuencia.\n",
    "\n",
    "Los criterios adoptados fueron los siguientes:\n",
    "\n",
    "- **1–35 Hz (banda pasante):** la mayoría del contenido útil del ECG se encuentra en este rango. Las componentes principales (ondas P, QRS y T) están dentro de este espectro.\n",
    "- **< 0.1 Hz (banda de rechazo inferior):** se atenúan las componentes lentas asociadas a movimientos del paciente, respiración o desplazamiento de línea base (drift).\n",
    "- **> 50 Hz (banda de rechazo superior):** se atenúan componentes espurias de alta frecuencia como ruido electromagnético y actividad muscular.\n",
    "- **Ripple en banda pasante de 1 dB:** se permite una pequeña variación en la ganancia en la zona útil.\n",
    "- **Atenuación mínima de 40 dB fuera de banda:** suficiente para suprimir con fuerza las componentes no deseadas.\n",
    "\n",
    "Este conjunto de requisitos busca conservar la forma morfológica de los latidos reales sin artefactos, permitiendo comparar distintos latidos entre sí o con un latido promedio de referencia.\n"
   ]
  },
  {
   "cell_type": "code",
   "execution_count": null,
   "id": "8e969c66",
   "metadata": {},
   "outputs": [],
   "source": []
  }
 ],
 "metadata": {
  "kernelspec": {
   "display_name": "Python 3 (ipykernel)",
   "language": "python",
   "name": "python3"
  },
  "language_info": {
   "codemirror_mode": {
    "name": "ipython",
    "version": 3
   },
   "file_extension": ".py",
   "mimetype": "text/x-python",
   "name": "python",
   "nbconvert_exporter": "python",
   "pygments_lexer": "ipython3",
   "version": "3.12.3"
  }
 },
 "nbformat": 4,
 "nbformat_minor": 5
}
