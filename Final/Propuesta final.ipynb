{
 "cells": [
  {
   "cell_type": "markdown",
   "id": "1e27c2f5",
   "metadata": {},
   "source": [
    "<img src=\"./Logo_UNSAM.png\" align=\"right\" width=\"150\" />\n",
    "\n",
    "#### Procesamiento Digital de Señales\n",
    "# Propuesta TP final\n",
    "\n",
    "## Detección de fallas mecánicas en maquinaria industrial mediante análisis de señales acústicas (MIMII Dataset)\n",
    "\n",
    "\n",
    "#### Lucas Marú\n"
   ]
  },
  {
   "cell_type": "markdown",
   "id": "0f233a8f",
   "metadata": {},
   "source": [
    "# Introducción\n",
    "\n",
    "El mantenimiento predictivo en sistemas industriales es una necesidad clave para prevenir fallas inesperadas, reducir costos y aumentar la eficiencia operativa. Una de las estrategias más efectivas para este fin es el análisis de señales acústicas o vibracionales emitidas por las máquinas durante su funcionamiento.\n",
    "\n",
    "Sobre este tema encontre una base de datos pública desarrollada por el equipo de investigación de Hitachi y Toyohashi University of Technology. Este dataset contiene grabaciones de sonido de máquinas industriales en condiciones normales y con fallas simuladas, bajo distintos niveles de ruido de fondo para simular entornos reales. La información esta volcada en el **MIMII Dataset (Malfunctioning Industrial Machine Investigation and Inspection)**.\n",
    "\n",
    "Las máquinas incluidas en el conjunto de datos son: **ventiladores, bombas, válvulas y rieles deslizantes**. Las señales están disponibles en formato `.wav` (audio) con una frecuencia de muestreo de 16 kHz."
   ]
  },
  {
   "cell_type": "markdown",
   "id": "a03ba5e0",
   "metadata": {},
   "source": [
    "## Propuesta\n",
    "\n",
    "La idea del trabajo es analizar grabaciones reales de máquinas industriales (en este caso, ventiladores) en condiciones normales y con fallas simuladas, y aplicar herramientas básicas de procesamiento de señales para detectar si hay diferencias claras entre ambos casos.\n",
    "\n",
    "A partir de lo visto en APS, se propone trabajar con:\n",
    "\n",
    "- **Visualización de la señal en el tiempo.**\n",
    "- **Transformada de Fourier (FFT)** para observar el contenido espectral.\n",
    "- **Estimación espectral con métodos como Welch**, para ver mejor la distribución de energía en frecuencia.\n",
    "- **Cálculo de energía o potencia** como forma cuantitativa de comparar señales normales y falladas.\n",
    "\n",
    "Se comenzará trabajando con señales del conjunto **`fan` con ruido 0 dB**, es decir, sin interferencia agregada. El objetivo inicial es detectar diferencias visibles o medibles entre señales normales y falladas. \n"
   ]
  },
  {
   "cell_type": "markdown",
   "id": "be336ed6",
   "metadata": {},
   "source": [
    "## Análisis preliminar de señales\n",
    "\n",
    "A continuación se muestran los resultados del análisis exploratorio aplicado a las señales de audio correspondientes al ventilador `fan_id_00` en condiciones normales y anómalas (0 dB de ruido, canal 0).\n",
    "\n",
    "### Señales en el dominio temporal\n",
    "\n",
    "En la figura siguiente se pueden observar las formas de onda de ambas señales. Si bien ambas presentan componentes similares a simple vista, se nota una mayor amplitud en algunos tramos de la señal anómala, lo que podría estar relacionado con golpes, vibraciones repetitivas u otros efectos mecánicos no presentes en la operación normal.\n",
    "\n",
    "*Figura 1 – Señales temporales (canal 0)*\n",
    "\n",
    "![Forma de onda](TiempoPropuesta.png)\n",
    "\n",
    "*Figura 2 – Señales temporales (canal 0, primer segundo de muestra)*\n",
    "![Forma de onda](TiempoPropuesta_1seg.png)\n",
    "\n",
    "---\n",
    "\n",
    "### Estimación espectral (Welch)\n",
    "\n",
    "Se aplicó el método de Welch para estimar la densidad espectral de potencia de ambas señales. En la señal anómala se observan mayores componentes de energía en ciertas bandas, particularmente por encima de los 1000 Hz, lo cual sugiere que hay patrones repetitivos o vibraciones mecánicas que no están presentes en condiciones normales.\n",
    "\n",
    "*Figura 3 – Estimación espectral con Welch (canal 0)*\n",
    "\n",
    "![Espectro Welch](WelchPropuesta.png)\n"
   ]
  },
  {
   "cell_type": "markdown",
   "id": "a0acb5f3",
   "metadata": {},
   "source": [
    "Este análisis preliminar sugiere que existen diferencias detectables entre las señales normales y anómalas de la máquina estudiada. En caso de ser aprobada la propuesta, se continuará profundizando este enfoque sobre el mismo conjunto de datos.\n"
   ]
  }
 ],
 "metadata": {
  "kernelspec": {
   "display_name": "Python (APS)",
   "language": "python",
   "name": "aps"
  },
  "language_info": {
   "codemirror_mode": {
    "name": "ipython",
    "version": 3
   },
   "file_extension": ".py",
   "mimetype": "text/x-python",
   "name": "python",
   "nbconvert_exporter": "python",
   "pygments_lexer": "ipython3",
   "version": "3.12.3"
  }
 },
 "nbformat": 4,
 "nbformat_minor": 5
}
