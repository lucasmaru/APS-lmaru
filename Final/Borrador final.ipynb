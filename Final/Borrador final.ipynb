{
 "cells": [
  {
   "cell_type": "markdown",
   "id": "ed02b0a3",
   "metadata": {},
   "source": [
    "# Análisis exploratorio de señales\n",
    "\n",
    "A continuación se presenta un análisis exploratorio comparativo entre una señal en condición normal y una señal anómala del modelo `fan_id_00`. El objetivo es identificar visualmente y cuantitativamente diferencias que puedan estar asociadas al funcionamiento defectuoso.\n",
    "\n",
    "### 1. Análisis en el dominio temporal\n",
    "\n",
    "Se comienza con una inspección visual directa de la forma de onda. En la figura siguiente se muestra un fragmento de ambas señales para el canal 0 y de ambas señales con el promedio de los 8 canales:\n",
    "<br><br>\n",
    "\n",
    "\n",
    "![Senal temporal](SeñalTiempo_500ms.png)\n",
    "<small><em>Figura 2 – Señales temporales (500 ms, canal 0)</em></small>\n",
    "\n",
    "![Senal temporal](Señalmulticanal_500ms.png)\n",
    "<small><em>Figura 3 – Señales temporales (500 ms, canal 0)</em></small>\n",
    "\n",
    "Esta observación sugiere la presencia de un componente periódico superpuesto al ruido de fondo o al comportamiento vibracional habitual de la máquina.\n",
    "\n",
    "Para intentar cuantificar esta oscilación, se calculó la autocorrelación de un segmento de la señal anómala. Esta herramienta permite medir la similitud de una señal consigo misma bajo distintos retardos. En señales que contienen un componente periódico, dicha similitud se maximiza cada vez que la señal se desplaza un múltiplo del período de repetición. Por lo tanto, el primer pico significativo en la autocorrelación (después del retardo cero) indica cuántas muestras hay entre repeticiones del patrón dominante.\n",
    "\n",
    "No obstante, en señales reales pueden aparecer picos tempranos que no reflejan el fenómeno de interés, sino que son causados por interferencias sistemáticas, como por ejemplo oscilaciones de red eléctrica a 50 Hz. Estas componentes pueden inducir patrones periódicos detectables por la autocorrelación, pero que no corresponden al comportamiento mecánico de la máquina.\n",
    "\n",
    "En este caso, el primer pico significativo coincidió con lo observado visualmente y fue coherente con el patrón periódico evidente en la señal anómala. No fue necesario restringir explícitamente el rango de búsqueda, ya que el patrón fue lo suficientemente dominante para sobresalir por sí solo.\n",
    "\n",
    "Sin embargo, en casos más ruidosos o en presencia de interferencias (como señales con SNR de –6 dB), podría resultar útil limitar la búsqueda de picos a un intervalo de retardos compatibles con lo esperado. La atención a este tipo de consideraciones se vuelve especialmente relevante en condiciones donde la señal útil es menos evidente.\n",
    "\n",
    "En este caso, dicho pico se encontró a los 30 samples, lo cual corresponde a un período de:\n",
    "\n",
    "$$\n",
    "T = \\frac{30}{16000} = 0.001875\\ \\text{s}, \\quad f = \\frac{1}{T} \\approx 533\\ \\text{Hz}\n",
    "$$\n",
    "\n",
    "\n",
    "![Autocorrelación del fragmento anómalo](Autocorr.png)\n",
    "<small><em>Figura 3 – Autocorrelación señal anómala</em></small>\n",
    "\n",
    "Este valor se interpreta como una estimación de la frecuencia con la que se repite el patrón observado en el tiempo.\n",
    "\n",
    "La presencia de este patrón periódico también puede observarse directamente en el dominio temporal. En la figura siguiente se muestra un fragmento de la señal anómala junto con líneas verticales separadas por el período estimado $T \\approx 0.0019$ segundos. Se evidencia que el patrón oscilatorio se alinea con estas marcas, lo que refuerza la validez de la estimación obtenida mediante la autocorrelación.\n",
    "\n",
    "\n",
    "\n",
    "### 2. Análisis en el dominio espectral\n",
    "\n",
    "Con el objetivo de verificar si esta oscilación se manifiesta también en el contenido espectral de la señal, se aplicó el método de Welch para estimar la densidad espectral de potencia. Inicialmente se utilizó `nperseg = 2048`, obteniendo una resolución espectral de aproximadamente 7.8 Hz. Si bien la señal anómala mostraba mayor energía en varias bandas, no se observaba claramente un pico en 533 Hz.\n",
    "\n",
    "Por esta razón, se decidió aumentar la resolución espectral utilizando `nperseg = 8192`, lo que permitió mejorar la discriminación en bajas frecuencias. Con este ajuste, la señal anómala mostró un **pico espectral definido en torno a 510–530 Hz**, mientras que en la señal normal dicha componente estaba ausente o severamente atenuada.\n",
    "\n",
    "Esta coincidencia entre la frecuencia estimada en el dominio temporal y el pico observado en el espectro refuerza la hipótesis de que la falla genera un comportamiento oscilatorio nuevo, que puede ser detectado tanto visual como frecuencialmente.\n"
   ]
  },
  {
   "cell_type": "markdown",
   "id": "c95d0f56",
   "metadata": {},
   "source": [
    "\n",
    "Por lo tanto, el primer pico significativo en la autocorrelación (después del retardo cero) indica cuántas muestras hay entre repeticiones del patrón dominante. Sin embargo, en señales reales pueden aparecer picos tempranos que no corresponden al fenómeno de interés, sino a interferencias sistemáticas como, por ejemplo, oscilaciones de red eléctrica de 50 Hz. Estas componentes pueden introducir patrones periódicos que la autocorrelación detecta, pero que no representan una característica propia del funcionamiento mecánico de la máquina.\n",
    "\n",
    "Para evitar confusiones, en este análisis se restringió la búsqueda del primer pico a un intervalo de retardos compatible con lo observado visualmente en la señal, en el orden de los 2 milisegundos. Este criterio se basó tanto en la estimación visual del período (entre 0.015 y 0.020 s) como en el contenido espectral observado posteriormente.\n",
    "\n",
    "Además, se identificaron picos en torno a 50 Hz y sus armónicos (100 Hz, 150 Hz) tanto en la señal normal como en la anómala, lo cual sugiere la presencia de interferencia eléctrica. Por esta razón, estos componentes no fueron tenidos en cuenta para la estimación del período dominante, ya que no se vinculan directamente con la falla que se desea analizar.\n",
    "\n",
    "\n",
    "En este caso, el primer pico significativo de la autocorrelación (después del retardo cero) coincidió con lo observado visualmente y resultó coherente con el patrón periódico evidente en la señal anómala. No fue necesario restringir explícitamente el rango de búsqueda, ya que el patrón fue lo suficientemente dominante para sobresalir por sí solo.\n",
    "\n",
    "Sin embargo, en casos más ruidosos o en presencia de interferencias (como oscilaciones de red eléctrica a 50 Hz), puede resultar útil limitar la búsqueda de picos a un intervalo de retardos compatibles con lo esperado. Este tipo de precaución será considerado en análisis posteriores si se presentan ambigüedades.\n"
   ]
  },
  {
   "cell_type": "markdown",
   "id": "bd17ac76",
   "metadata": {},
   "source": [
    "### Análisis de picos compartidos con desfasaje\n",
    "\n",
    "Al comparar los espectros de las señales normal y anómala, se observaron ciertos picos que aparecen en ambas condiciones pero con una leve diferencia de frecuencia. Este fenómeno puede interpretarse como la manifestación de una misma fuente de energía (por ejemplo, una resonancia estructural o un componente rotatorio), cuyo comportamiento se ve afectado por la presencia de la falla.\n",
    "\n",
    "Una falla mecánica puede modificar ligeramente las condiciones de rigidez, masa o amortiguamiento del sistema, lo que provoca un desplazamiento de las frecuencias naturales. Este tipo de desfasaje espectral es un indicador sutil pero relevante, ya que refleja que la energía sigue presente en la misma banda general, pero ha cambiado de ubicación debido al mal funcionamiento.\n",
    "\n",
    "La identificación de estos desfasajes complementa el análisis clásico de aparición/desaparición de componentes espectrales, y puede enriquecer futuras estrategias de detección de anomalías.\n"
   ]
  },
  {
   "cell_type": "markdown",
   "id": "d9fd8d7b",
   "metadata": {},
   "source": [
    "1. **Picos coincidentes entre señales**:  \n",
    "   Existen componentes espectrales que aparecen tanto en la señal normal como en la anómala con frecuencias prácticamente idénticas. Estos picos se interpretan como parte del comportamiento normal del sistema, probablemente asociados a la rotación del ventilador o a modos estructurales del conjunto mecánico.\n",
    "\n",
    "   Un ejemplo claro es el pico alrededor de **60 Hz**, que coincide con una frecuencia de rotación de **3600 RPM**, típica en motores eléctricos trifásicos alimentados a red. También se observa su primer armónico en torno a **132 Hz**, presente en ambas señales. La estabilidad de estos componentes en ambas condiciones sugiere que no están directamente relacionados con la falla, sino que forman parte del funcionamiento esperado del sistema.\n"
   ]
  }
 ],
 "metadata": {
  "kernelspec": {
   "display_name": "Python (APS)",
   "language": "python",
   "name": "aps"
  },
  "language_info": {
   "codemirror_mode": {
    "name": "ipython",
    "version": 3
   },
   "file_extension": ".py",
   "mimetype": "text/x-python",
   "name": "python",
   "nbconvert_exporter": "python",
   "pygments_lexer": "ipython3",
   "version": "3.12.3"
  }
 },
 "nbformat": 4,
 "nbformat_minor": 5
}
